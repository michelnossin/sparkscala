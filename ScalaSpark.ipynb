{
 "cells": [
  {
   "cell_type": "markdown",
   "metadata": {},
   "source": [
    "### Loading and saving data from and to RDD , Dataframe"
   ]
  },
  {
   "cell_type": "code",
   "execution_count": 1,
   "metadata": {
    "collapsed": true
   },
   "outputs": [],
   "source": [
    "import org.apache.spark.sql.types._"
   ]
  },
  {
   "cell_type": "code",
   "execution_count": 19,
   "metadata": {
    "collapsed": true
   },
   "outputs": [],
   "source": [
    "//Spark 2 offer Sparksession called spark, with options to load many formatted files into a Dataframe\n",
    "val loadedDF = spark.read.format(\"csv\").option(\"header\", \"true\").load(\"rows.csv?accessType=DOWNLOAD\")"
   ]
  },
  {
   "cell_type": "code",
   "execution_count": 13,
   "metadata": {},
   "outputs": [
    {
     "data": {
      "text/plain": [
       "Array(JURISDICTION NAME, COUNT PARTICIPANTS, COUNT FEMALE, PERCENT FEMALE, COUNT MALE, PERCENT MALE, COUNT GENDER UNKNOWN, PERCENT GENDER UNKNOWN, COUNT GENDER TOTAL, PERCENT GENDER TOTAL, COUNT PACIFIC ISLANDER, PERCENT PACIFIC ISLANDER, COUNT HISPANIC LATINO, PERCENT HISPANIC LATINO, COUNT AMERICAN INDIAN, PERCENT AMERICAN INDIAN, COUNT ASIAN NON HISPANIC, PERCENT ASIAN NON HISPANIC, COUNT WHITE NON HISPANIC, PERCENT WHITE NON HISPANIC, COUNT BLACK NON HISPANIC, PERCENT BLACK NON HISPANIC, COUNT OTHER ETHNICITY, PERCENT OTHER ETHNICITY, COUNT ETHNICITY UNKNOWN, PERCENT ETHNICITY UNKNOWN, COUNT ETHNICITY TOTAL, PERCENT ETHNICITY TOTAL, COUNT PERMANENT RESIDENT ALIEN, PERCENT PERMANENT RESIDENT ALIEN, COUNT US CITIZEN, PERCENT US CITIZEN, COUNT OTHER CITIZEN STATU..."
      ]
     },
     "execution_count": 13,
     "metadata": {},
     "output_type": "execute_result"
    }
   ],
   "source": [
    "loadedDF.columns\n",
    "//loadedDF.printSchema"
   ]
  },
  {
   "cell_type": "code",
   "execution_count": 20,
   "metadata": {},
   "outputs": [
    {
     "name": "stdout",
     "output_type": "stream",
     "text": [
      "1\n",
      "2\n",
      "3\n"
     ]
    }
   ],
   "source": [
    "//Create old fashion Rdd manually\n",
    "val rdd = sc.parallelize(List(1,2,3))\n",
    "rdd.collect().foreach(println)"
   ]
  },
  {
   "cell_type": "code",
   "execution_count": 17,
   "metadata": {},
   "outputs": [
    {
     "name": "stdout",
     "output_type": "stream",
     "text": [
      "JURISDICTION NAME,COUNT PARTICIPANTS,COUNT FEMALE,PERCENT FEMALE,COUNT MALE,PERCENT MALE,COUNT GENDER UNKNOWN,PERCENT GENDER UNKNOWN,COUNT GENDER TOTAL,PERCENT GENDER TOTAL,COUNT PACIFIC ISLANDER,PERCENT PACIFIC ISLANDER,COUNT HISPANIC LATINO,PERCENT HISPANIC LATINO,COUNT AMERICAN INDIAN,PERCENT AMERICAN INDIAN,COUNT ASIAN NON HISPANIC,PERCENT ASIAN NON HISPANIC,COUNT WHITE NON HISPANIC,PERCENT WHITE NON HISPANIC,COUNT BLACK NON HISPANIC,PERCENT BLACK NON HISPANIC,COUNT OTHER ETHNICITY,PERCENT OTHER ETHNICITY,COUNT ETHNICITY UNKNOWN,PERCENT ETHNICITY UNKNOWN,COUNT ETHNICITY TOTAL,PERCENT ETHNICITY TOTAL,COUNT PERMANENT RESIDENT ALIEN,PERCENT PERMANENT RESIDENT ALIEN,COUNT US CITIZEN,PERCENT US CITIZEN,COUNT OTHER CITIZEN STATUS,PERCENT OTHER CITIZEN STATUS,COUNT CITIZEN STATUS UNKNOWN,PERCENT CITIZEN STATUS UNKNOWN,COUNT CITIZEN STATUS TOTAL,PERCENT CITIZEN STATUS TOTAL,COUNT RECEIVES PUBLIC ASSISTANCE,PERCENT RECEIVES PUBLIC ASSISTANCE,COUNT NRECEIVES PUBLIC ASSISTANCE,PERCENT NRECEIVES PUBLIC ASSISTANCE,COUNT PUBLIC ASSISTANCE UNKNOWN,PERCENT PUBLIC ASSISTANCE UNKNOWN,COUNT PUBLIC ASSISTANCE TOTAL,PERCENT PUBLIC ASSISTANCE TOTAL\n",
      "10001,44,22,0.5,22,0.5,0,0,44,100,0,0,16,0.36,0,0,3,0.07,1,0.02,21,0.48,3,0.07,0,0,44,100,2,0.05,42,0.95,0,0,0,0,44,100,20,0.45,24,0.55,0,0,44,100\n",
      "10002,35,19,0.54,16,0.46,0,0,35,100,0,0,1,0.03,0,0,28,0.8,6,0.17,0,0,0,0,0,0,35,100,2,0.06,33,0.94,0,0,0,0,35,100,2,0.06,33,0.94,0,0,35,100\n",
      "10003,1,1,1,0,0,0,0,1,100,0,0,0,0,0,0,1,1,0,0,0,0,0,0,0,0,1,100,0,0,1,1,0,0,0,0,1,100,0,0,1,1,0,0,1,100\n",
      "10004,0,0,0,0,0,0,0,0,0,0,0,0,0,0,0,0,0,0,0,0,0,0,0,0,0,0,0,0,0,0,0,0,0,0,0,0,0,0,0,0,0,0,0,0,0\n"
     ]
    },
    {
     "data": {
      "text/plain": [
       "MapPartitionsRDD[43] at repartition at <console>:22"
      ]
     },
     "execution_count": 17,
     "metadata": {},
     "output_type": "execute_result"
    }
   ],
   "source": [
    "//Or create rdd by loading in a file\n",
    "val rdd = sc.textFile(\"file:////home/jovyan/rows.csv?accessType=DOWNLOAD\",6)\n",
    "rdd.take(5).foreach(println)\n",
    "rdd.repartition(1) //make it one\n",
    "\n"
   ]
  },
  {
   "cell_type": "code",
   "execution_count": 20,
   "metadata": {},
   "outputs": [],
   "source": [
    "//Next write as parquet, json etc, can only be done using Dataframe not RDD\n",
    "loadedDF.write.json(\"file:////home/jovyan/file.json\")"
   ]
  },
  {
   "cell_type": "markdown",
   "metadata": {},
   "source": [
    "### Filtering\n",
    "In case you load json with multiple depth level, use this to filter the level\n",
    "Use DF.select(\"somelevel.*\")"
   ]
  },
  {
   "cell_type": "code",
   "execution_count": 27,
   "metadata": {},
   "outputs": [
    {
     "name": "stdout",
     "output_type": "stream",
     "text": [
      "+-----------------+------------------+------------+----------+\n",
      "|JURISDICTION NAME|COUNT PARTICIPANTS|COUNT FEMALE|COUNT MALE|\n",
      "+-----------------+------------------+------------+----------+\n",
      "|            10001|                44|          22|        22|\n",
      "|            10002|                35|          19|        16|\n",
      "|            10003|                 1|           1|         0|\n",
      "|            10004|                 0|           0|         0|\n",
      "|            10005|                 2|           2|         0|\n",
      "+-----------------+------------------+------------+----------+\n",
      "only showing top 5 rows\n",
      "\n"
     ]
    }
   ],
   "source": [
    "//select some columns\n",
    "val rows = loadedDF.select(\"JURISDICTION NAME\", \"COUNT PARTICIPANTS\", \"COUNT FEMALE\", \"COUNT MALE\")\n",
    "rows.show(5)"
   ]
  },
  {
   "cell_type": "code",
   "execution_count": 30,
   "metadata": {},
   "outputs": [
    {
     "name": "stdout",
     "output_type": "stream",
     "text": [
      "+-----------------+------------------+------------+----------+\n",
      "|JURISDICTION NAME|COUNT PARTICIPANTS|COUNT FEMALE|COUNT MALE|\n",
      "+-----------------+------------------+------------+----------+\n",
      "|            10001|                44|          22|        22|\n",
      "|            10002|                35|          19|        16|\n",
      "|            10016|                17|          12|         5|\n",
      "|            10025|                27|          17|        10|\n",
      "|            10029|                20|          13|         7|\n",
      "+-----------------+------------------+------------+----------+\n",
      "only showing top 5 rows\n",
      "\n"
     ]
    }
   ],
   "source": [
    "//Filter row values\n",
    "rows.filter(rows(\"COUNT PARTICIPANTS\") > 10).show(5)"
   ]
  },
  {
   "cell_type": "markdown",
   "metadata": {},
   "source": [
    "### Grouping"
   ]
  },
  {
   "cell_type": "code",
   "execution_count": 34,
   "metadata": {},
   "outputs": [
    {
     "name": "stdout",
     "output_type": "stream",
     "text": [
      "+----------+-----+\n",
      "|COUNT MALE|count|\n",
      "+----------+-----+\n",
      "|         7|    6|\n",
      "|        54|    1|\n",
      "|        15|    1|\n",
      "|        11|    1|\n",
      "|         3|    9|\n",
      "+----------+-----+\n",
      "only showing top 5 rows\n",
      "\n"
     ]
    }
   ],
   "source": [
    "rows.groupBy(\"COUNT MALE\").count.show(5)"
   ]
  },
  {
   "cell_type": "markdown",
   "metadata": {},
   "source": [
    "### SQL"
   ]
  },
  {
   "cell_type": "code",
   "execution_count": 46,
   "metadata": {},
   "outputs": [
    {
     "name": "stdout",
     "output_type": "stream",
     "text": [
      "+----------+\n",
      "|COUNT MALE|\n",
      "+----------+\n",
      "|        22|\n",
      "|        16|\n",
      "|         7|\n",
      "|        10|\n",
      "|         7|\n",
      "+----------+\n",
      "only showing top 5 rows\n",
      "\n"
     ]
    }
   ],
   "source": [
    "loadedDF.createOrReplaceTempView(\"mytable\")\n",
    "spark.sql(\"select `COUNT MALE` from mytable where `COUNT MALE` > 5\").show(5)"
   ]
  },
  {
   "cell_type": "markdown",
   "metadata": {},
   "source": [
    "### To create schema on read:\n",
    "```\n",
    "val schema = StructType(\n",
    "     StructField(\"_id\",StringType,true)::\n",
    "     StructField(\"_rev\",StringType,true)::\n",
    "     StructField(\"count\",LongType,true)::\n",
    "     StructField(\"flowrate\",LongType,true)::\n",
    "     StructField(\"fluidlevel\",StringType,true)::\n",
    "     StructField(\"frequency\",LongType,true)::\n",
    "     StructField(\"hardness\",LongType,true)::\n",
    "     StructField(\"speed\",LongType,true)::\n",
    "     StructField(\"temperature\",LongType,true)::\n",
    "     StructField(\"ts\",LongType,true)::\n",
    "     StructField(\"voltage\",LongType,true)::\n",
    " Nil)\n",
    " \n",
    " spark.createDataFrame(rdd,schema)\n",
    " ```"
   ]
  }
 ],
 "metadata": {
  "kernelspec": {
   "display_name": "Apache Toree - Scala",
   "language": "scala",
   "name": "apache_toree_scala"
  },
  "language_info": {
   "file_extension": ".scala",
   "name": "scala",
   "version": "2.11.8"
  }
 },
 "nbformat": 4,
 "nbformat_minor": 2
}
